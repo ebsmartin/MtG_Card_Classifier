{
 "cells": [
  {
   "cell_type": "markdown",
   "metadata": {},
   "source": [
    "# Utilizing the MtG Gatherer API I will grab all card data"
   ]
  },
  {
   "cell_type": "code",
   "execution_count": 1,
   "metadata": {},
   "outputs": [
    {
     "name": "stdout",
     "output_type": "stream",
     "text": [
      "Requirement already satisfied: mtgsdk in c:\\users\\ericb\\anaconda3\\envs\\mtg_classifier\\lib\\site-packages (1.3.1)\n",
      "Note: you may need to restart the kernel to use updated packages.\n"
     ]
    }
   ],
   "source": [
    "%pip install mtgsdk\n",
    "\n",
    "from mtgsdk import Card\n",
    "from mtgsdk import Set\n",
    "from mtgsdk import Type\n",
    "from mtgsdk import Supertype\n",
    "from mtgsdk import Subtype\n",
    "from mtgsdk import Changelog"
   ]
  },
  {
   "cell_type": "markdown",
   "metadata": {},
   "source": [
    "## Card Properties Per Class\n",
    "\n",
    "    name\n",
    "    multiverse_id\n",
    "    layout\n",
    "    names\n",
    "    mana_cost\n",
    "    cmc\n",
    "    colors\n",
    "    color_identity\n",
    "    type\n",
    "    supertypes\n",
    "    subtypes\n",
    "    rarity\n",
    "    text\n",
    "    flavor\n",
    "    artist\n",
    "    number\n",
    "    power\n",
    "    toughness\n",
    "    loyalty\n",
    "    variations\n",
    "    watermark\n",
    "    border\n",
    "    timeshifted\n",
    "    hand\n",
    "    life\n",
    "    reserved\n",
    "    release_date\n",
    "    starter\n",
    "    rulings\n",
    "    foreign_names\n",
    "    printings\n",
    "    original_text\n",
    "    original_type\n",
    "    legalities\n",
    "    source\n",
    "    image_url\n",
    "    set\n",
    "    set_name\n",
    "    id  "
   ]
  },
  {
   "cell_type": "markdown",
   "metadata": {},
   "source": [
    "# Card Set Info\n",
    "\n",
    "    code\n",
    "    name\n",
    "    gatherer_code\n",
    "    old_code\n",
    "    magic_cards_info_code\n",
    "    release_date\n",
    "    border\n",
    "    type\n",
    "    block\n",
    "    online_only\n",
    "    booster\n",
    "    mkm_id\n",
    "    mkm_name"
   ]
  },
  {
   "cell_type": "code",
   "execution_count": 6,
   "metadata": {},
   "outputs": [],
   "source": [
    "card = Card.find(386615)"
   ]
  },
  {
   "cell_type": "code",
   "execution_count": 3,
   "metadata": {},
   "outputs": [
    {
     "data": {
      "text/plain": [
       "'http://gatherer.wizards.com/Handlers/Image.ashx?multiverseid=386616&type=card'"
      ]
     },
     "execution_count": 3,
     "metadata": {},
     "output_type": "execute_result"
    }
   ],
   "source": [
    "card.image_url"
   ]
  },
  {
   "cell_type": "markdown",
   "metadata": {},
   "source": [
    "# The Gatherer API is not providing high quality images\n",
    "\n",
    "I will use a bulk download from Scryfall.com found here https://scryfall.com/docs/api/bulk-data\n",
    "\n",
    "The dataset I am using is the \"Default Cards\" which is a JSON file containing every card object on Scryfall in English or the printed language if the card is only available in one language.\n",
    "\n",
    "With this, we can grab each image and save it for use in the model.\n"
   ]
  },
  {
   "cell_type": "code",
   "execution_count": 1,
   "metadata": {},
   "outputs": [],
   "source": [
    "import json\n",
    "\n",
    "# Load the JSON file\n",
    "with open('./Datasets/default-cards-20240817211226.json', 'r') as file:\n",
    "    cards_data = json.load(file)\n"
   ]
  },
  {
   "cell_type": "markdown",
   "metadata": {},
   "source": [
    "## Let us look at the data a bit to see what we are working with"
   ]
  },
  {
   "cell_type": "code",
   "execution_count": 7,
   "metadata": {},
   "outputs": [
    {
     "name": "stdout",
     "output_type": "stream",
     "text": [
      "Length of Dataset:99238\n",
      "Number of features per card:59\n",
      "Features:dict_keys(['object', 'id', 'oracle_id', 'multiverse_ids', 'mtgo_id', 'arena_id', 'tcgplayer_id', 'name', 'lang', 'released_at', 'uri', 'scryfall_uri', 'layout', 'highres_image', 'image_status', 'image_uris', 'mana_cost', 'cmc', 'type_line', 'oracle_text', 'colors', 'color_identity', 'keywords', 'produced_mana', 'legalities', 'games', 'reserved', 'foil', 'nonfoil', 'finishes', 'oversized', 'promo', 'reprint', 'variation', 'set_id', 'set', 'set_name', 'set_type', 'set_uri', 'set_search_uri', 'scryfall_set_uri', 'rulings_uri', 'prints_search_uri', 'collector_number', 'digital', 'rarity', 'card_back_id', 'artist', 'artist_ids', 'illustration_id', 'border_color', 'frame', 'full_art', 'textless', 'booster', 'story_spotlight', 'prices', 'related_uris', 'purchase_uris'])\n"
     ]
    }
   ],
   "source": [
    "print('Length of Dataset:' + str(len(cards_data)))\n",
    "print('Number of features per card:' + str(len(cards_data[0])))\n",
    "print('Features:' + str(cards_data[0].keys()))"
   ]
  },
  {
   "cell_type": "markdown",
   "metadata": {},
   "source": [
    "## I am curious to see if any cards do not have an image associated with them"
   ]
  },
  {
   "cell_type": "code",
   "execution_count": null,
   "metadata": {},
   "outputs": [],
   "source": []
  }
 ],
 "metadata": {
  "kernelspec": {
   "display_name": "MtG_Classifier",
   "language": "python",
   "name": "python3"
  },
  "language_info": {
   "codemirror_mode": {
    "name": "ipython",
    "version": 3
   },
   "file_extension": ".py",
   "mimetype": "text/x-python",
   "name": "python",
   "nbconvert_exporter": "python",
   "pygments_lexer": "ipython3",
   "version": "3.11.9"
  }
 },
 "nbformat": 4,
 "nbformat_minor": 2
}
