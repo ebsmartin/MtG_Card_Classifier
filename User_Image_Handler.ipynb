{
 "cells": [
  {
   "cell_type": "markdown",
   "metadata": {},
   "source": [
    "# This Class is used to handle the images the user uploads\n",
    "\n",
    "The images will be cropped and rotated to prepare for embedding and querying the vector database."
   ]
  },
  {
   "cell_type": "code",
   "execution_count": 1,
   "metadata": {},
   "outputs": [],
   "source": [
    "import cv2\n",
    "import numpy as np\n",
    "\n",
    "def detect_and_crop_cards(image_path, min_area=5000):\n",
    "    \"\"\"\n",
    "    Detect and crop cards from the image.\n",
    "    Automatically rotate them to be vertical without altering colors.\n",
    "    Args:\n",
    "    - image_path: Path to the image containing the cards.\n",
    "    - min_area: Minimum area to consider a contour as a card.\n",
    "    \n",
    "    Returns:\n",
    "    - cropped_cards: List of cropped and rotated card images.\n",
    "    \"\"\"\n",
    "    # Load the image without any color alterations\n",
    "    image = cv2.imread(image_path)\n",
    "    \n",
    "    # Convert to grayscale for edge detection (no color alteration)\n",
    "    gray = cv2.cvtColor(image, cv2.COLOR_BGR2GRAY)\n",
    "    blurred = cv2.GaussianBlur(gray, (5, 5), 0)\n",
    "    \n",
    "    # Edge detection to find card contours\n",
    "    edges = cv2.Canny(blurred, 50, 150)\n",
    "    \n",
    "    # Find contours\n",
    "    contours, _ = cv2.findContours(edges, cv2.RETR_EXTERNAL, cv2.CHAIN_APPROX_SIMPLE)\n",
    "    \n",
    "    cropped_cards = []\n",
    "    \n",
    "    for contour in contours:\n",
    "        # Filter by area to ignore small contours\n",
    "        area = cv2.contourArea(contour)\n",
    "        if area < min_area:\n",
    "            continue\n",
    "        \n",
    "        # Get the minimum area rectangle for the contour\n",
    "        rect = cv2.minAreaRect(contour)\n",
    "        box = cv2.boxPoints(rect)\n",
    "        box = np.int0(box)\n",
    "        \n",
    "        # Crop the card from the image using the bounding box\n",
    "        width = int(rect[1][0])\n",
    "        height = int(rect[1][1])\n",
    "        \n",
    "        # Get the rotation matrix\n",
    "        src_pts = box.astype(\"float32\")\n",
    "        dst_pts = np.array([[0, height-1],\n",
    "                            [0, 0],\n",
    "                            [width-1, 0],\n",
    "                            [width-1, height-1]], dtype=\"float32\")\n",
    "        \n",
    "        M = cv2.getPerspectiveTransform(src_pts, dst_pts)\n",
    "        warped = cv2.warpPerspective(image, M, (width, height))\n",
    "        \n",
    "        # Ensure the card is rotated to be vertical\n",
    "        if height > width:\n",
    "            warped = cv2.rotate(warped, cv2.ROTATE_90_CLOCKWISE)\n",
    "        \n",
    "        cropped_cards.append(warped)\n",
    "    \n",
    "    return cropped_cards"
   ]
  },
  {
   "cell_type": "code",
   "execution_count": null,
   "metadata": {},
   "outputs": [],
   "source": [
    "# Example usage:\n",
    "image_paths = ['Datasets/mtg_test_images/shuko_mountain_carpet.jpg', 'Datasets/mtg_test_images/shuko_single_held_in_hand.jpg', \n",
    "                'Datasets/mtg_test_images/shuko_single_rotated_countertop.jpg', 'Datasets/mtg_test_images/shuko_single_slightly_rotated_countertop.jpg', \n",
    "                'Datasets/mtg_test_images/shuko_single_slightly_rotated_tablecloth.jpg', 'Datasets/mtg_test_images/shuko.jpg']\n",
    "\n",
    "cards = [detect_and_crop_cards(image_path) for image_path in image_paths]\n",
    "\n",
    "# Now you can preprocess and embed these cropped cards\n",
    "for idx, card in enumerate(cards):\n",
    "    # Save the card\n",
    "    cv2.imwrite(f\"cropped_card_{idx}.jpg\", card)\n"
   ]
  }
 ],
 "metadata": {
  "kernelspec": {
   "display_name": "MtG_Classifier",
   "language": "python",
   "name": "python3"
  },
  "language_info": {
   "codemirror_mode": {
    "name": "ipython",
    "version": 3
   },
   "file_extension": ".py",
   "mimetype": "text/x-python",
   "name": "python",
   "nbconvert_exporter": "python",
   "pygments_lexer": "ipython3",
   "version": "3.11.9"
  }
 },
 "nbformat": 4,
 "nbformat_minor": 2
}
